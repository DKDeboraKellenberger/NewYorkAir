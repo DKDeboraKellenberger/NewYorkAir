{
 "cells": [
  {
   "cell_type": "code",
   "execution_count": 6,
   "metadata": {},
   "outputs": [],
   "source": [
    "import pandas as pd"
   ]
  },
  {
   "cell_type": "code",
   "execution_count": 7,
   "metadata": {},
   "outputs": [],
   "source": [
    "df = pd.read_csv(r\"C:\\Users\\debor\\OneDrive\\Documentos\\PRACTICA\\Dataset _NY\\updated_air_quality_data.csv\")"
   ]
  },
  {
   "cell_type": "code",
   "execution_count": 8,
   "metadata": {},
   "outputs": [
    {
     "name": "stdout",
     "output_type": "stream",
     "text": [
      "   Unique ID               Name  Measure Geo Type Name Geo Place Name  \\\n",
      "0     179772          Emissions  Density         UHF42         Queens   \n",
      "1     179785          Emissions  Density         UHF42        Unknown   \n",
      "2     178540  General Pollution    Miles         UHF42        Unknown   \n",
      "3     178561  General Pollution    Miles         UHF42         Queens   \n",
      "4     823217  General Pollution    Miles         UHF42         Queens   \n",
      "\n",
      "      Time Period  Start_Date  Data Value Air Quality Category  \n",
      "0           Other  2015-01-01         0.3                 Good  \n",
      "1           Other  2015-01-01         1.2                 Good  \n",
      "2  Annual Average  2011-12-01         8.6                 Good  \n",
      "3  Annual Average  2011-12-01         8.0                 Good  \n",
      "4          Summer  2022-06-01         6.1                 Good  \n"
     ]
    }
   ],
   "source": [
    "# Primeras filas del DataFrame\n",
    "print(df.head())"
   ]
  },
  {
   "cell_type": "code",
   "execution_count": 9,
   "metadata": {},
   "outputs": [
    {
     "name": "stdout",
     "output_type": "stream",
     "text": [
      "<class 'pandas.core.frame.DataFrame'>\n",
      "RangeIndex: 18016 entries, 0 to 18015\n",
      "Data columns (total 9 columns):\n",
      " #   Column                Non-Null Count  Dtype  \n",
      "---  ------                --------------  -----  \n",
      " 0   Unique ID             18016 non-null  int64  \n",
      " 1   Name                  18016 non-null  object \n",
      " 2   Measure               18016 non-null  object \n",
      " 3   Geo Type Name         18016 non-null  object \n",
      " 4   Geo Place Name        18016 non-null  object \n",
      " 5   Time Period           18016 non-null  object \n",
      " 6   Start_Date            18016 non-null  object \n",
      " 7   Data Value            18016 non-null  float64\n",
      " 8   Air Quality Category  18016 non-null  object \n",
      "dtypes: float64(1), int64(1), object(7)\n",
      "memory usage: 1.2+ MB\n",
      "None\n"
     ]
    }
   ],
   "source": [
    "# Información sobre las columnas y tipos de datos\n",
    "print(df.info())"
   ]
  },
  {
   "cell_type": "code",
   "execution_count": 10,
   "metadata": {},
   "outputs": [
    {
     "name": "stdout",
     "output_type": "stream",
     "text": [
      "           Unique ID    Data Value\n",
      "count   18016.000000  18016.000000\n",
      "mean   426187.112789     21.412678\n",
      "std    250391.154793     23.976151\n",
      "min    121644.000000      0.000000\n",
      "25%    175300.750000      8.900000\n",
      "50%    410798.500000     15.200000\n",
      "75%    649886.250000     26.700000\n",
      "max    828353.000000    424.700000\n"
     ]
    }
   ],
   "source": [
    "# Estadísticas descriptivas básicas\n",
    "print(df.describe())"
   ]
  },
  {
   "cell_type": "code",
   "execution_count": 12,
   "metadata": {},
   "outputs": [
    {
     "name": "stdout",
     "output_type": "stream",
     "text": [
      "<class 'pandas.core.frame.DataFrame'>\n",
      "RangeIndex: 18016 entries, 0 to 18015\n",
      "Data columns (total 9 columns):\n",
      " #   Column                Non-Null Count  Dtype         \n",
      "---  ------                --------------  -----         \n",
      " 0   Unique ID             18016 non-null  int64         \n",
      " 1   Name                  18016 non-null  object        \n",
      " 2   Measure               18016 non-null  object        \n",
      " 3   Geo Type Name         18016 non-null  object        \n",
      " 4   Geo Place Name        18016 non-null  object        \n",
      " 5   Time Period           18016 non-null  object        \n",
      " 6   Start_Date            18016 non-null  datetime64[ns]\n",
      " 7   Data Value            18016 non-null  float64       \n",
      " 8   Air Quality Category  18016 non-null  object        \n",
      "dtypes: datetime64[ns](1), float64(1), int64(1), object(6)\n",
      "memory usage: 1.2+ MB\n",
      "None\n"
     ]
    }
   ],
   "source": [
    "# Cambio de tipo de dato\n",
    "df['Start_Date'] = pd.to_datetime(df['Start_Date'])\n",
    "print(df.info())"
   ]
  },
  {
   "cell_type": "code",
   "execution_count": 13,
   "metadata": {},
   "outputs": [
    {
     "name": "stdout",
     "output_type": "stream",
     "text": [
      "0   2015-01-01\n",
      "1   2015-01-01\n",
      "2   2011-12-01\n",
      "3   2011-12-01\n",
      "4   2022-06-01\n",
      "Name: Start_Date, dtype: datetime64[ns]\n"
     ]
    }
   ],
   "source": [
    "start_dates = df['Start_Date']\n",
    "print(start_dates.head())"
   ]
  },
  {
   "cell_type": "code",
   "execution_count": null,
   "metadata": {},
   "outputs": [],
   "source": []
  }
 ],
 "metadata": {
  "kernelspec": {
   "display_name": "venv",
   "language": "python",
   "name": "python3"
  },
  "language_info": {
   "codemirror_mode": {
    "name": "ipython",
    "version": 3
   },
   "file_extension": ".py",
   "mimetype": "text/x-python",
   "name": "python",
   "nbconvert_exporter": "python",
   "pygments_lexer": "ipython3",
   "version": "3.12.8"
  }
 },
 "nbformat": 4,
 "nbformat_minor": 2
}
